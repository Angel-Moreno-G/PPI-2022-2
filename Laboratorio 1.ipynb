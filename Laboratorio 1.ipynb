{
 "cells": [
  {
   "cell_type": "markdown",
   "id": "3d874bf7",
   "metadata": {},
   "source": [
    "# PROGRAMACION 1\n",
    "## ANGEL MORENO 5-718-955 / PPI 2022-2"
   ]
  },
  {
   "cell_type": "markdown",
   "id": "ff06d8d2",
   "metadata": {},
   "source": [
    "### LABORATORIO 1"
   ]
  },
  {
   "cell_type": "markdown",
   "id": "9f7f9c80",
   "metadata": {},
   "source": [
    "Problema 1"
   ]
  },
  {
   "cell_type": "code",
   "execution_count": 3,
   "id": "59f3a4cf",
   "metadata": {},
   "outputs": [
    {
     "name": "stdout",
     "output_type": "stream",
     "text": [
      "194.87171000000012\n"
     ]
    }
   ],
   "source": [
    "invercion= 100\n",
    "años= 7\n",
    "interes= 100*(1+0.1)**7\n",
    "print(interes)"
   ]
  },
  {
   "cell_type": "markdown",
   "id": "c6a392c5",
   "metadata": {},
   "source": [
    "Problema 2"
   ]
  },
  {
   "cell_type": "code",
   "execution_count": 4,
   "id": "80ecb763",
   "metadata": {},
   "outputs": [
    {
     "name": "stdout",
     "output_type": "stream",
     "text": [
      "100\n"
     ]
    }
   ],
   "source": [
    "ahorros= 100\n",
    "print(ahorros)"
   ]
  },
  {
   "cell_type": "markdown",
   "id": "d03b6737",
   "metadata": {},
   "source": [
    "Problema 3"
   ]
  },
  {
   "cell_type": "code",
   "execution_count": 1,
   "id": "30f3a3b1",
   "metadata": {},
   "outputs": [
    {
     "name": "stdout",
     "output_type": "stream",
     "text": [
      "194.87171000000012\n"
     ]
    }
   ],
   "source": [
    "ahorro= 100\n",
    "mult_anual= float(1.1)\n",
    "resultado= ahorro*(mult_anual)**7\n",
    "print(resultado)"
   ]
  },
  {
   "cell_type": "markdown",
   "id": "858e5ec9",
   "metadata": {},
   "source": [
    "Problema 4"
   ]
  },
  {
   "cell_type": "code",
   "execution_count": 2,
   "id": "23eebf27",
   "metadata": {},
   "outputs": [
    {
     "name": "stdout",
     "output_type": "stream",
     "text": [
      "cadena de texto\n",
      "True\n"
     ]
    }
   ],
   "source": [
    "desc= str(\"cadena de texto\")\n",
    "print(desc)\n",
    "profic=bool(True)\n",
    "print(bool(profic))"
   ]
  },
  {
   "cell_type": "markdown",
   "id": "5cfad9b0",
   "metadata": {},
   "source": [
    "Problema 5"
   ]
  },
  {
   "cell_type": "code",
   "execution_count": 1,
   "id": "7c218c62",
   "metadata": {},
   "outputs": [
    {
     "name": "stdout",
     "output_type": "stream",
     "text": [
      "110.00000000000001\n",
      "<class 'float'>\n",
      "interes compuestointeres compuesto\n"
     ]
    }
   ],
   "source": [
    "ahorros= 100\n",
    "mult= float(1.1)\n",
    "desc= \"interes compuesto\"\n",
    "\n",
    "año1= ahorros*(mult)\n",
    "print(año1)\n",
    "print(type(año1))\n",
    "\n",
    "dobledesc= desc + desc\n",
    "print(dobledesc)"
   ]
  },
  {
   "cell_type": "markdown",
   "id": "61afa0b9",
   "metadata": {},
   "source": [
    "Problema 6"
   ]
  },
  {
   "cell_type": "code",
   "execution_count": 1,
   "id": "ece640d9",
   "metadata": {},
   "outputs": [
    {
     "name": "stdout",
     "output_type": "stream",
     "text": [
      "iniciamos con\n",
      "100\n",
      "y ahora tenemos\n",
      "194.87171000000012\n",
      "¡Que bien!\n"
     ]
    }
   ],
   "source": [
    "ahorros= 100\n",
    "resultados= 100*1.1**7\n",
    "\n",
    "print(\"iniciamos con\")\n",
    "print(100)\n",
    "print(\"y ahora tenemos\")\n",
    "print(float(194.87171000000012))\n",
    "print(\"¡Que bien!\")"
   ]
  }
 ],
 "metadata": {
  "kernelspec": {
   "display_name": "Python 3 (ipykernel)",
   "language": "python",
   "name": "python3"
  },
  "language_info": {
   "codemirror_mode": {
    "name": "ipython",
    "version": 3
   },
   "file_extension": ".py",
   "mimetype": "text/x-python",
   "name": "python",
   "nbconvert_exporter": "python",
   "pygments_lexer": "ipython3",
   "version": "3.7.13"
  }
 },
 "nbformat": 4,
 "nbformat_minor": 5
}
