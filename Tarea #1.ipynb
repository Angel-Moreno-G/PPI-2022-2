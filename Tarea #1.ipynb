{
 "cells": [
  {
   "cell_type": "markdown",
   "id": "f784ce91",
   "metadata": {},
   "source": [
    "## Angel Moreno Tarea #1 \n",
    "### 5-718-955"
   ]
  },
  {
   "cell_type": "markdown",
   "id": "93a18862",
   "metadata": {},
   "source": [
    "### Problema #1"
   ]
  },
  {
   "cell_type": "code",
   "execution_count": 1,
   "id": "f98a8e82",
   "metadata": {
    "scrolled": true
   },
   "outputs": [],
   "source": [
    "def Celsius_to_Kelvin(C):\n",
    "    return (C + 273.15)"
   ]
  },
  {
   "cell_type": "code",
   "execution_count": 8,
   "id": "d6d8d01c",
   "metadata": {},
   "outputs": [
    {
     "name": "stdout",
     "output_type": "stream",
     "text": [
      "La temperatura en °K es de (273.15) =  298.15\n"
     ]
    }
   ],
   "source": [
    "C= 25\n",
    "print(\"La temperatura en °K es de (273.15) = \",\n",
    "                    Celsius_to_Kelvin(C))"
   ]
  },
  {
   "cell_type": "markdown",
   "id": "9e561f1c",
   "metadata": {},
   "source": [
    "### Problema #2"
   ]
  },
  {
   "cell_type": "code",
   "execution_count": 3,
   "id": "1e0306f8",
   "metadata": {},
   "outputs": [],
   "source": [
    "import numpy\n"
   ]
  },
  {
   "cell_type": "code",
   "execution_count": 9,
   "id": "0b0762d1",
   "metadata": {},
   "outputs": [
    {
     "name": "stdout",
     "output_type": "stream",
     "text": [
      "la media sera:\n",
      "1.797\n"
     ]
    }
   ],
   "source": [
    "altura=numpy.array ([1.5, 2.2, 1.56, 1.78, 1.82,1.90, 1.66, 1.91, 1.76, 1.88],float)\n",
    "media= altura.mean ()\n",
    "print(\"la media sera:\")\n",
    "print(media)"
   ]
  },
  {
   "cell_type": "markdown",
   "id": "d2766ea9",
   "metadata": {},
   "source": [
    "### Problema #3"
   ]
  },
  {
   "cell_type": "code",
   "execution_count": 6,
   "id": "41624429",
   "metadata": {},
   "outputs": [],
   "source": [
    "import statistics"
   ]
  },
  {
   "cell_type": "code",
   "execution_count": 10,
   "id": "c2b9d71d",
   "metadata": {},
   "outputs": [
    {
     "name": "stdout",
     "output_type": "stream",
     "text": [
      "La desviacion estandar sera: 0.1892115218479044\n"
     ]
    }
   ],
   "source": [
    "altura=numpy.array([1.5, 2.2, 1.56, 1.78, 1.82,1.90, 1.66, 1.91, 1.76, 1.88],float)\n",
    "\n",
    "standar_desviation= statistics.pstdev(altura)\n",
    "\n",
    "print(\"La desviacion estandar sera: \" + str(standar_desviation)) "
   ]
  }
 ],
 "metadata": {
  "kernelspec": {
   "display_name": "Python 3 (ipykernel)",
   "language": "python",
   "name": "python3"
  },
  "language_info": {
   "codemirror_mode": {
    "name": "ipython",
    "version": 3
   },
   "file_extension": ".py",
   "mimetype": "text/x-python",
   "name": "python",
   "nbconvert_exporter": "python",
   "pygments_lexer": "ipython3",
   "version": "3.7.13"
  }
 },
 "nbformat": 4,
 "nbformat_minor": 5
}
